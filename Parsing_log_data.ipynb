{
  "nbformat": 4,
  "nbformat_minor": 0,
  "metadata": {
    "colab": {
      "provenance": []
    },
    "kernelspec": {
      "name": "python3",
      "display_name": "Python 3"
    },
    "language_info": {
      "name": "python"
    }
  },
  "cells": [
    {
      "cell_type": "markdown",
      "source": [
        "# Project description"
      ],
      "metadata": {
        "id": "7LzTPVgCZFQP"
      }
    },
    {
      "cell_type": "markdown",
      "source": [
        "In this project, the task involves managing employee access to restricted\n",
        "content at a healthcare company, specifically focusing on sensitive patient records. Access to these records is controlled through an allow list, which contains the IP addresses of employees permitted to sign into a restricted subnetwork. A remove list is also maintained, which identifies the employees or IP addresses that should be removed from the allow list.\n",
        "\n",
        "An algorithm is required to be developed using Python code to automate this process. The algorithm will check whether any IP addresses on the remove list are still present in the allow list. If such addresses are found, they will be removed from the allow list file, ensuring that only authorized individuals retain access to the restricted subnetwork, thus enhancing security and compliance."
      ],
      "metadata": {
        "id": "wUcCdB0qjnFf"
      }
    },
    {
      "cell_type": "markdown",
      "source": [
        "## Open the file that contains the allow list"
      ],
      "metadata": {
        "id": "h7E-jm_eZP3n"
      }
    },
    {
      "cell_type": "code",
      "source": [
        "# Assign 'import_file' to the name of the file\n",
        "import_file = \"allow_list.txt\"\n"
      ],
      "metadata": {
        "id": "JDEqrPxmaAEh"
      },
      "execution_count": 1,
      "outputs": []
    },
    {
      "cell_type": "markdown",
      "source": [
        "## Read the file contents"
      ],
      "metadata": {
        "id": "6GsdP_slZTRu"
      }
    },
    {
      "cell_type": "code",
      "source": [
        "# Build `with` statement to read in the initial contents of the file\n",
        "with open(import_file, \"r\") as file:\n",
        "\n",
        "  # Use `.read()` to read the imported file and store it in a variable named `ip_addresses`\n",
        "  ip_addresses = file.read()"
      ],
      "metadata": {
        "id": "21lGRs-1aOvd"
      },
      "execution_count": 2,
      "outputs": []
    },
    {
      "cell_type": "code",
      "source": [
        "print(ip_addresses)"
      ],
      "metadata": {
        "colab": {
          "base_uri": "https://localhost:8080/"
        },
        "id": "Iin2ISutadwx",
        "outputId": "527ea9fe-5805-4dc3-803f-0781edde226b"
      },
      "execution_count": 3,
      "outputs": [
        {
          "output_type": "stream",
          "name": "stdout",
          "text": [
            "ip_address 192.168.25.60 192.168.205.12 192.168.6.9 192.168.52.90 192.168.90.124 192.168.186.176 192.168.133.188 192.168.203.198 192.168.218.219 192.168.52.37 192.168.156.224 192.168.60.153 192.168.69.116\n"
          ]
        }
      ]
    },
    {
      "cell_type": "markdown",
      "source": [
        "## Convert the string into a list"
      ],
      "metadata": {
        "id": "KZ_0us_cZT5k"
      }
    },
    {
      "cell_type": "code",
      "source": [
        "# Use '.split()' to convert 'ip_addresses' from a string to a list\n",
        "\n",
        "ip_addresses = ip_addresses.split()"
      ],
      "metadata": {
        "id": "RVxIASoMbLI5"
      },
      "execution_count": 4,
      "outputs": []
    },
    {
      "cell_type": "code",
      "source": [
        "# Loop through 'ip_addresses'\n",
        "for element in ip_addresses[1:]:\n",
        "\n",
        "    # Display `element` in every iteration\n",
        "    print(f\"ip_address [{ip_addresses.index(element)}]: {element}\")\n",
        "\n",
        "print(f\"The length of list is: {len(ip_addresses)}\")"
      ],
      "metadata": {
        "colab": {
          "base_uri": "https://localhost:8080/"
        },
        "id": "rmbAk_mCbPJV",
        "outputId": "9418a545-0bbc-4eb5-f8ed-a527fcee3514"
      },
      "execution_count": 5,
      "outputs": [
        {
          "output_type": "stream",
          "name": "stdout",
          "text": [
            "ip_address [1]: 192.168.25.60\n",
            "ip_address [2]: 192.168.205.12\n",
            "ip_address [3]: 192.168.6.9\n",
            "ip_address [4]: 192.168.52.90\n",
            "ip_address [5]: 192.168.90.124\n",
            "ip_address [6]: 192.168.186.176\n",
            "ip_address [7]: 192.168.133.188\n",
            "ip_address [8]: 192.168.203.198\n",
            "ip_address [9]: 192.168.218.219\n",
            "ip_address [10]: 192.168.52.37\n",
            "ip_address [11]: 192.168.156.224\n",
            "ip_address [12]: 192.168.60.153\n",
            "ip_address [13]: 192.168.69.116\n",
            "The length of list is: 14\n"
          ]
        }
      ]
    },
    {
      "cell_type": "markdown",
      "source": [
        "## Remove IP addresses that are on the remove list"
      ],
      "metadata": {
        "id": "inu-3VjkZXp1"
      }
    },
    {
      "cell_type": "code",
      "source": [
        "# Assign 'remove_list' to a list of IP addresses that are no longer allowed to access restricted information.\n",
        "remove_list = [\"192.168.52.90\", \"192.168.158.170\", \"192.168.186.176\", \"192.168.58.57\"]\n",
        "\n",
        "# Loop through 'ip_addresses'\n",
        "for element in ip_addresses:\n",
        "\n",
        "  # If current element is in 'remove_list',\n",
        "  if element in remove_list:\n",
        "\n",
        "        # then current element should be removed from 'ip_addresses'\n",
        "        ip_addresses.remove(element)"
      ],
      "metadata": {
        "id": "3NIDPYXge49l"
      },
      "execution_count": 6,
      "outputs": []
    },
    {
      "cell_type": "code",
      "source": [
        "# Loop through 'ip_addresses'\n",
        "for element in ip_addresses[1:]:\n",
        "\n",
        "    # Display 'element' in every iteration\n",
        "    print(f\"ip_address [{ip_addresses.index(element)}]: {element}\")"
      ],
      "metadata": {
        "colab": {
          "base_uri": "https://localhost:8080/"
        },
        "id": "-V508spMhYJV",
        "outputId": "d6c03aac-bf88-4033-b1ed-eabd2e31e937"
      },
      "execution_count": 7,
      "outputs": [
        {
          "output_type": "stream",
          "name": "stdout",
          "text": [
            "ip_address [1]: 192.168.25.60\n",
            "ip_address [2]: 192.168.205.12\n",
            "ip_address [3]: 192.168.6.9\n",
            "ip_address [4]: 192.168.90.124\n",
            "ip_address [5]: 192.168.133.188\n",
            "ip_address [6]: 192.168.203.198\n",
            "ip_address [7]: 192.168.218.219\n",
            "ip_address [8]: 192.168.52.37\n",
            "ip_address [9]: 192.168.156.224\n",
            "ip_address [10]: 192.168.60.153\n",
            "ip_address [11]: 192.168.69.116\n"
          ]
        }
      ]
    },
    {
      "cell_type": "markdown",
      "source": [
        "## Update the file with the revised list of IP addresses"
      ],
      "metadata": {
        "id": "CrCkRrLqZZm2"
      }
    },
    {
      "cell_type": "code",
      "source": [
        "# Convert 'ip_addresses' back to a string so that it can be written into the text file\n",
        "ip_addresses = \" \".join(ip_addresses)\n",
        "\n",
        "# Build 'with' statement to rewrite the original file\n",
        "with open(import_file, \"w\") as file:\n",
        "\n",
        "  # Rewrite the file, replacing its contents with 'ip_addresses'\n",
        "  file.write(ip_addresses)"
      ],
      "metadata": {
        "id": "xcSwJTG1ffvB"
      },
      "execution_count": 8,
      "outputs": []
    },
    {
      "cell_type": "markdown",
      "source": [
        "## Print the ultimate list"
      ],
      "metadata": {
        "id": "7bOZDZMxf3Eu"
      }
    },
    {
      "cell_type": "code",
      "source": [
        "# Build `with` statement to read in the updated file\n",
        "with open(import_file, \"r\") as file:\n",
        "\n",
        "    # Read in the updated file and store the contents in 'updated_list'\n",
        "    updated_list = file.read()\n",
        "\n",
        "# Display the contents of 'text'\n",
        "print(updated_list)"
      ],
      "metadata": {
        "colab": {
          "base_uri": "https://localhost:8080/"
        },
        "id": "YjXU-QeVf2Wz",
        "outputId": "14466452-ee71-4dbf-9f45-67f3e9528a50"
      },
      "execution_count": 10,
      "outputs": [
        {
          "output_type": "stream",
          "name": "stdout",
          "text": [
            "ip_address 192.168.25.60 192.168.205.12 192.168.6.9 192.168.90.124 192.168.133.188 192.168.203.198 192.168.218.219 192.168.52.37 192.168.156.224 192.168.60.153 192.168.69.116\n"
          ]
        }
      ]
    },
    {
      "cell_type": "markdown",
      "source": [
        "## Summary\n"
      ],
      "metadata": {
        "id": "cJz5o_16ZdI6"
      }
    },
    {
      "cell_type": "markdown",
      "source": [
        "An algorithm was created to remove IP addresses identified in the `remove_list` variable from the \"allow_list.txt\" file of approved IP addresses. This algorithm involved opening the file, converting its contents into a string for reading, and then converting the string into a list stored in the variable `ip_addresses`. The IP addresses in `remove_list` were then iterated through, and during each iteration, the elements were evaluated to determine if they were part of the `ip_addresses` list. If an element was present, the `.remove()` method was applied to eliminate it from `ip_addresses`. Afterward, the `.join()` method was used to convert `ip_addresses` back into a string, enabling the revised list of IP addresses to overwrite the contents of the \"allow_list.txt\" file."
      ],
      "metadata": {
        "id": "h7CAWo0KknTC"
      }
    }
  ]
}